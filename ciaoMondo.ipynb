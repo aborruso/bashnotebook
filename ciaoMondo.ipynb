{
 "cells": [
  {
   "cell_type": "markdown",
   "metadata": {},
   "source": [
    "## Comando iniziale\n",
    "\n",
    "In questa macchina sono installate diverse utility. Una di queste è `pup`, un parser HTML, che però per essere utilizzata richiedere (qui su mybinder) di avere permesso di esecuzione e di essere inserita nel `PATH`."
   ]
  },
  {
   "cell_type": "code",
   "execution_count": 8,
   "metadata": {},
   "outputs": [],
   "source": [
    "chmod +x /home/jovyan/go/bin/pup\n",
    "export PATH=\"/home/jovyan/go/bin:$PATH\""
   ]
  }
 ],
 "metadata": {
  "kernelspec": {
   "display_name": "Bash",
   "language": "bash",
   "name": "bash"
  },
  "language_info": {
   "codemirror_mode": "shell",
   "file_extension": ".sh",
   "mimetype": "text/x-sh",
   "name": "bash"
  }
 },
 "nbformat": 4,
 "nbformat_minor": 2
}
