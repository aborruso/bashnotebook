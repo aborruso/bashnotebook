{
 "cells": [
  {
   "cell_type": "markdown",
   "metadata": {},
   "source": [
    "## Comando iniziale\n",
    "\n",
    "In questa macchina sono installate diverse utility. Tra queste `pup` e `mapshaper`, che però per essere utilizzate richiedono (qui su mybinder) permesso di esecuzione ed essere inserite nel `PATH`."
   ]
  },
  {
   "cell_type": "code",
   "execution_count": 1,
   "metadata": {},
   "outputs": [],
   "source": [
    "chmod +x /home/jovyan/go/bin/pup\n",
    "export PATH=\"/home/jovyan/go/bin:$PATH\"\n",
    "export PATH=\"/home/jovyan/node_modules/mapshaper/bin/:$PATH\""
   ]
  }
 ],
 "metadata": {
  "kernelspec": {
   "display_name": "Bash",
   "language": "bash",
   "name": "bash"
  },
  "language_info": {
   "codemirror_mode": "shell",
   "file_extension": ".sh",
   "mimetype": "text/x-sh",
   "name": "bash"
  }
 },
 "nbformat": 4,
 "nbformat_minor": 2
}
