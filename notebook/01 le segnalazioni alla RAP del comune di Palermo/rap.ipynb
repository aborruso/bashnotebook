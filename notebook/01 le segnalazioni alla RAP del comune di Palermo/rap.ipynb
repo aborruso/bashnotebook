{
 "cells": [
  {
   "cell_type": "markdown",
   "metadata": {},
   "source": [
    "# Scarico i dati"
   ]
  },
  {
   "cell_type": "code",
   "execution_count": 1,
   "metadata": {},
   "outputs": [],
   "source": [
    "%%bash\n",
    "# Prima scarico i dati\n",
    "# le segnalazioni aperte\n",
    "curl -sL 'http://www.rapspaservizi.it/develop1/bastaundito/bastaundito_dev/mappa' -H 'Connection: keep-alive' \\\n",
    "-H 'Cache-Control: max-age=0' -H 'Origin: http://www.rapspaservizi.it' -H 'Upgrade-Insecure-Requests: 1' \\\n",
    "-H 'Content-Type: application/x-www-form-urlencoded' \\\n",
    "-H 'User-Agent: Mozilla/5.0 (Windows NT 10.0; Win64; x64) AppleWebKit/537.36 (KHTML, like Gecko) Chrome/67.0.3396.40 Safari/537.36' \\\n",
    "-H 'Accept: text/html,application/xhtml+xml,application/xml;q=0.9,image/webp,image/apng,*/*;q=0.8' \\\n",
    "-H 'Referer: http://www.rapspaservizi.it/develop1/bastaundito/bastaundito_dev/mappa' -H 'Accept-Encoding: gzip, deflate' \\\n",
    "-H 'Accept-Language: it-IT,it;q=0.9,en-US;q=0.8,en;q=0.7' \\\n",
    "--data 'giorno_dal=01%2F01%2F2018&giorno_al=14%2F05%2F2018&attivita_id=31&circoscrizione_id=T&stato=A' >./aperte\n",
    "# le segnalazioni aperte\n",
    "curl -sL 'http://www.rapspaservizi.it/develop1/bastaundito/bastaundito_dev/mappa' -H 'Connection: keep-alive' \\\n",
    "-H 'Cache-Control: max-age=0' -H 'Origin: http://www.rapspaservizi.it' -H 'Upgrade-Insecure-Requests: 1' \\\n",
    "-H 'Content-Type: application/x-www-form-urlencoded' \\\n",
    "-H 'User-Agent: Mozilla/5.0 (Windows NT 10.0; Win64; x64) AppleWebKit/537.36 (KHTML, like Gecko) Chrome/67.0.3396.40 Safari/537.36' \\\n",
    "-H 'Accept: text/html,application/xhtml+xml,application/xml;q=0.9,image/webp,image/apng,*/*;q=0.8' \\\n",
    "-H 'Referer: http://www.rapspaservizi.it/develop1/bastaundito/bastaundito_dev/mappa' -H 'Accept-Encoding: gzip, deflate' \\\n",
    "-H 'Accept-Language: it-IT,it;q=0.9,en-US;q=0.8,en;q=0.7' \\\n",
    "--data 'giorno_dal=01%2F01%2F2018&giorno_al=14%2F05%2F2018&attivita_id=31&circoscrizione_id=T&stato=C' >./chiuse"
   ]
  },
  {
   "cell_type": "markdown",
   "metadata": {},
   "source": [
    "## Estraggo le informazioni su ogni segnalazione"
   ]
  },
  {
   "cell_type": "code",
   "execution_count": 2,
   "metadata": {},
   "outputs": [],
   "source": [
    "%%bash\n",
    "# Poi le info su ogni pallino (le coordinate sono in un blocco diverso da quello anagrafico)\n",
    "echo \"data,indirizzo,foto,stato\" >./dati.csv\n",
    "## info su aperte\n",
    "<aperte grep -P 'marker_[0-9]+.set.*' | \\\n",
    "perl -pe  's|(marker_)([0-9]+)(.*?)(<h[0-9]>)(.*?)(<.h[0-9]>)(<p>)(.*?)(<.p>)(.*?)(src=.\")(.*?)(.\")(.*)$|$5#$8#$12|g' | \\\n",
    "grep -v 'marker' | csvformat -d \"#\" | sed -e 's/$/,aperta/g' | sed -r 's/^\\s+//' >>./dati.csv\n",
    "## info su chiuse\n",
    "<chiuse grep -P 'marker_[0-9]+.set.*' | \\\n",
    "perl -pe  's|(marker_)([0-9]+)(.*?)(<h[0-9]>)(.*?)(<.h[0-9]>)(<p>)(.*?)(<.p>)(.*?)(src=.\")(.*?)(.\")(.*)$|$5#$8#$12|g' | \\\n",
    "grep -v 'marker' | csvformat -d \"#\" | sed -e 's/$/,chiusa/g' | sed -r 's/^\\s+//' >>./dati.csv"
   ]
  },
  {
   "cell_type": "markdown",
   "metadata": {},
   "source": [
    "## Estraggo le coordinate di ogni segnalazione"
   ]
  },
  {
   "cell_type": "code",
   "execution_count": 3,
   "metadata": {},
   "outputs": [],
   "source": [
    "%%bash\n",
    "## info sulle coordinate\n",
    "echo \"latitude,longitude\" >./coords.txt\n",
    "<aperte grep -P 'google.maps.LatLng' | tail -n +3 | sed -r 's/^\\s+//g' | perl -pe  's/^(.+?\\()(.+?)(.;)/$2/g' >>coords.txt\n",
    "<chiuse grep -P 'google.maps.LatLng' | tail -n +3 | sed -r 's/^\\s+//g' | perl -pe  's/^(.+?\\()(.+?)(.;)/$2/g' >>coords.txt\n",
    "# metto insieme le info anagrafiche con quelle spaziali\n",
    "paste -d , dati.csv coords.txt >./output.csv"
   ]
  },
  {
   "cell_type": "markdown",
   "metadata": {},
   "source": [
    "## Metto insieme i dati estratti e creo output in CSV e GeoJSON"
   ]
  },
  {
   "cell_type": "code",
   "execution_count": 4,
   "metadata": {},
   "outputs": [],
   "source": [
    "%%bash\n",
    "# rimuovo i record che hanno 0 come coordinate e creo geojson\n",
    "<output.csv csvgrep -c \"latitude,longitude\" -r '^.{0,1}0.{0,1}$' -i | csvjson --lat latitude --lon longitude >output.geojson"
   ]
  },
  {
   "cell_type": "code",
   "execution_count": 5,
   "metadata": {},
   "outputs": [],
   "source": [
    "import pandas as pd\n",
    "import geopandas as gpd"
   ]
  },
  {
   "cell_type": "code",
   "execution_count": 6,
   "metadata": {},
   "outputs": [
    {
     "data": {
      "text/html": [
       "<div>\n",
       "<style>\n",
       "    .dataframe thead tr:only-child th {\n",
       "        text-align: right;\n",
       "    }\n",
       "\n",
       "    .dataframe thead th {\n",
       "        text-align: left;\n",
       "    }\n",
       "\n",
       "    .dataframe tbody tr th {\n",
       "        vertical-align: top;\n",
       "    }\n",
       "</style>\n",
       "<table border=\"1\" class=\"dataframe\">\n",
       "  <thead>\n",
       "    <tr style=\"text-align: right;\">\n",
       "      <th></th>\n",
       "      <th>data</th>\n",
       "      <th>indirizzo</th>\n",
       "      <th>foto</th>\n",
       "      <th>stato</th>\n",
       "      <th>latitude</th>\n",
       "      <th>longitude</th>\n",
       "    </tr>\n",
       "  </thead>\n",
       "  <tbody>\n",
       "    <tr>\n",
       "      <th>0</th>\n",
       "      <td>14/05/2018  17:20:36</td>\n",
       "      <td>VIA SERRADIFALCO, 186</td>\n",
       "      <td>http://www.rapspaservizi.it/develop1/images/se...</td>\n",
       "      <td>aperta</td>\n",
       "      <td>38.126431</td>\n",
       "      <td>13.338010</td>\n",
       "    </tr>\n",
       "    <tr>\n",
       "      <th>1</th>\n",
       "      <td>14/05/2018  12:01:10</td>\n",
       "      <td>PIAZZA BARTOLOMEO DA MESSINA, 2</td>\n",
       "      <td>http://www.rapspaservizi.it/develop1/images/se...</td>\n",
       "      <td>aperta</td>\n",
       "      <td>38.137805</td>\n",
       "      <td>13.363939</td>\n",
       "    </tr>\n",
       "    <tr>\n",
       "      <th>2</th>\n",
       "      <td>14/05/2018  09:42:58</td>\n",
       "      <td>VIA SS.XL MARTIRI AL CASALOTTO, 6</td>\n",
       "      <td>http://www.rapspaservizi.it/develop1/images/se...</td>\n",
       "      <td>aperta</td>\n",
       "      <td>38.113358</td>\n",
       "      <td>13.362425</td>\n",
       "    </tr>\n",
       "    <tr>\n",
       "      <th>3</th>\n",
       "      <td>14/05/2018  08:57:02</td>\n",
       "      <td>VIA ORSO MARIO CORBINO, 52</td>\n",
       "      <td>http://www.rapspaservizi.it/develop1/images/se...</td>\n",
       "      <td>aperta</td>\n",
       "      <td>38.105295</td>\n",
       "      <td>13.369227</td>\n",
       "    </tr>\n",
       "    <tr>\n",
       "      <th>4</th>\n",
       "      <td>14/05/2018  08:33:52</td>\n",
       "      <td>VIA GIOTTO,</td>\n",
       "      <td>http://www.rapspaservizi.it/develop1/images/se...</td>\n",
       "      <td>aperta</td>\n",
       "      <td>38.131067</td>\n",
       "      <td>13.335596</td>\n",
       "    </tr>\n",
       "  </tbody>\n",
       "</table>\n",
       "</div>"
      ],
      "text/plain": [
       "                   data                          indirizzo  \\\n",
       "0  14/05/2018  17:20:36              VIA SERRADIFALCO, 186   \n",
       "1  14/05/2018  12:01:10    PIAZZA BARTOLOMEO DA MESSINA, 2   \n",
       "2  14/05/2018  09:42:58  VIA SS.XL MARTIRI AL CASALOTTO, 6   \n",
       "3  14/05/2018  08:57:02         VIA ORSO MARIO CORBINO, 52   \n",
       "4  14/05/2018  08:33:52                       VIA GIOTTO,    \n",
       "\n",
       "                                                foto   stato   latitude  \\\n",
       "0  http://www.rapspaservizi.it/develop1/images/se...  aperta  38.126431   \n",
       "1  http://www.rapspaservizi.it/develop1/images/se...  aperta  38.137805   \n",
       "2  http://www.rapspaservizi.it/develop1/images/se...  aperta  38.113358   \n",
       "3  http://www.rapspaservizi.it/develop1/images/se...  aperta  38.105295   \n",
       "4  http://www.rapspaservizi.it/develop1/images/se...  aperta  38.131067   \n",
       "\n",
       "   longitude  \n",
       "0  13.338010  \n",
       "1  13.363939  \n",
       "2  13.362425  \n",
       "3  13.369227  \n",
       "4  13.335596  "
      ]
     },
     "execution_count": 6,
     "metadata": {},
     "output_type": "execute_result"
    }
   ],
   "source": [
    "dati=pd.read_csv('output.csv')\n",
    "dati.head(5)"
   ]
  }
 ],
 "metadata": {
  "kernelspec": {
   "display_name": "Python 3",
   "language": "python",
   "name": "python3"
  },
  "language_info": {
   "codemirror_mode": {
    "name": "ipython",
    "version": 3
   },
   "file_extension": ".py",
   "mimetype": "text/x-python",
   "name": "python",
   "nbconvert_exporter": "python",
   "pygments_lexer": "ipython3",
   "version": "3.6.5"
  }
 },
 "nbformat": 4,
 "nbformat_minor": 2
}
