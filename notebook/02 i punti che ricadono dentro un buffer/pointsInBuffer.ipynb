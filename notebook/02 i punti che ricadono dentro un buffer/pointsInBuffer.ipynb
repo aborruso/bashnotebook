{
 "cells": [
  {
   "cell_type": "code",
   "execution_count": 16,
   "metadata": {},
   "outputs": [],
   "source": [
    "import matplotlib.pyplot as plt\n",
    "import pandas as pd\n",
    "import geopandas as gpd\n",
    "from shapely.geometry import Point\n",
    "%matplotlib inline"
   ]
  },
  {
   "cell_type": "code",
   "execution_count": 23,
   "metadata": {},
   "outputs": [],
   "source": [
    "df = pd.DataFrame(\n",
    "    {'testo': ['punto Enri'],\n",
    "     'Latitude': [-34.58],\n",
    "     'Longitude': [-57.66]})\n",
    "\n",
    "airbnb = pd.DataFrame(\n",
    "    {'testo': ['airbnb1','airbnb2','airbnb3'],\n",
    "     'Latitude': [-32.58,-31,-36],\n",
    "     'Longitude': [-58.66,-56,-57]})"
   ]
  },
  {
   "cell_type": "code",
   "execution_count": 18,
   "metadata": {},
   "outputs": [
    {
     "data": {
      "text/html": [
       "<div>\n",
       "<style>\n",
       "    .dataframe thead tr:only-child th {\n",
       "        text-align: right;\n",
       "    }\n",
       "\n",
       "    .dataframe thead th {\n",
       "        text-align: left;\n",
       "    }\n",
       "\n",
       "    .dataframe tbody tr th {\n",
       "        vertical-align: top;\n",
       "    }\n",
       "</style>\n",
       "<table border=\"1\" class=\"dataframe\">\n",
       "  <thead>\n",
       "    <tr style=\"text-align: right;\">\n",
       "      <th></th>\n",
       "      <th>Latitude</th>\n",
       "      <th>Longitude</th>\n",
       "      <th>testo</th>\n",
       "      <th>Coordinates</th>\n",
       "    </tr>\n",
       "  </thead>\n",
       "  <tbody>\n",
       "    <tr>\n",
       "      <th>0</th>\n",
       "      <td>-34.58</td>\n",
       "      <td>-57.66</td>\n",
       "      <td>punto Enri</td>\n",
       "      <td>POINT (-57.66 -34.58)</td>\n",
       "    </tr>\n",
       "  </tbody>\n",
       "</table>\n",
       "</div>"
      ],
      "text/plain": [
       "   Latitude  Longitude       testo            Coordinates\n",
       "0    -34.58     -57.66  punto Enri  POINT (-57.66 -34.58)"
      ]
     },
     "execution_count": 18,
     "metadata": {},
     "output_type": "execute_result"
    }
   ],
   "source": [
    "df['Coordinates']  = list(zip(df.Longitude, df.Latitude))\n",
    "df['Coordinates'] = df['Coordinates'].apply(Point)\n",
    "# imposto il sistema di coordinate\n",
    "crs = {'init': 'epsg:4326'}\n",
    "gdf = gpd.GeoDataFrame(df, crs=crs, geometry='Coordinates')\n",
    "gdf.head(3)"
   ]
  },
  {
   "cell_type": "code",
   "execution_count": 19,
   "metadata": {},
   "outputs": [
    {
     "data": {
      "text/html": [
       "<div>\n",
       "<style>\n",
       "    .dataframe thead tr:only-child th {\n",
       "        text-align: right;\n",
       "    }\n",
       "\n",
       "    .dataframe thead th {\n",
       "        text-align: left;\n",
       "    }\n",
       "\n",
       "    .dataframe tbody tr th {\n",
       "        vertical-align: top;\n",
       "    }\n",
       "</style>\n",
       "<table border=\"1\" class=\"dataframe\">\n",
       "  <thead>\n",
       "    <tr style=\"text-align: right;\">\n",
       "      <th></th>\n",
       "      <th>Latitude</th>\n",
       "      <th>Longitude</th>\n",
       "      <th>testo</th>\n",
       "      <th>Coordinates</th>\n",
       "    </tr>\n",
       "  </thead>\n",
       "  <tbody>\n",
       "    <tr>\n",
       "      <th>0</th>\n",
       "      <td>-32.58</td>\n",
       "      <td>-58.66</td>\n",
       "      <td>airbnb1</td>\n",
       "      <td>POINT (-58.66 -32.58)</td>\n",
       "    </tr>\n",
       "    <tr>\n",
       "      <th>1</th>\n",
       "      <td>-31.00</td>\n",
       "      <td>-56.00</td>\n",
       "      <td>airbnb2</td>\n",
       "      <td>POINT (-56 -31)</td>\n",
       "    </tr>\n",
       "    <tr>\n",
       "      <th>2</th>\n",
       "      <td>-36.00</td>\n",
       "      <td>-57.00</td>\n",
       "      <td>airbnb3</td>\n",
       "      <td>POINT (-57 -36)</td>\n",
       "    </tr>\n",
       "  </tbody>\n",
       "</table>\n",
       "</div>"
      ],
      "text/plain": [
       "   Latitude  Longitude    testo            Coordinates\n",
       "0    -32.58     -58.66  airbnb1  POINT (-58.66 -32.58)\n",
       "1    -31.00     -56.00  airbnb2        POINT (-56 -31)\n",
       "2    -36.00     -57.00  airbnb3        POINT (-57 -36)"
      ]
     },
     "execution_count": 19,
     "metadata": {},
     "output_type": "execute_result"
    }
   ],
   "source": [
    "airbnb['Coordinates']  = list(zip(airbnb.Longitude, airbnb.Latitude))\n",
    "airbnb['Coordinates'] = airbnb['Coordinates'].apply(Point)\n",
    "# imposto il sistema di coordinate\n",
    "crs = {'init': 'epsg:4326'}\n",
    "airbnbgdf = gpd.GeoDataFrame(airbnb, crs=crs, geometry='Coordinates')\n",
    "airbnbgdf.head(3)"
   ]
  },
  {
   "cell_type": "code",
   "execution_count": 20,
   "metadata": {},
   "outputs": [
    {
     "data": {
      "image/png": "[encoded data removed]",
      "text/plain": [
       "<matplotlib.figure.Figure at 0x7fbe85a5a310>"
      ]
     },
     "metadata": {},
     "output_type": "display_data"
    }
   ],
   "source": [
    "ax=gdf.plot(color='red')\n",
    "airbnbgdf.plot(ax=ax, color='orange')\n",
    "# aggiungo un buffer di 2° attorno al punto e lo aggiungo al grafico\n",
    "gdf.buffer(2).plot(ax=ax, color='gray')\n",
    "plt.show()"
   ]
  },
  {
   "cell_type": "code",
   "execution_count": 24,
   "metadata": {},
   "outputs": [
    {
     "data": {
      "text/html": [
       "<div>\n",
       "<style>\n",
       "    .dataframe thead tr:only-child th {\n",
       "        text-align: right;\n",
       "    }\n",
       "\n",
       "    .dataframe thead th {\n",
       "        text-align: left;\n",
       "    }\n",
       "\n",
       "    .dataframe tbody tr th {\n",
       "        vertical-align: top;\n",
       "    }\n",
       "</style>\n",
       "<table border=\"1\" class=\"dataframe\">\n",
       "  <thead>\n",
       "    <tr style=\"text-align: right;\">\n",
       "      <th></th>\n",
       "      <th>Latitude</th>\n",
       "      <th>Longitude</th>\n",
       "      <th>testo</th>\n",
       "      <th>Coordinates</th>\n",
       "    </tr>\n",
       "  </thead>\n",
       "  <tbody>\n",
       "    <tr>\n",
       "      <th>2</th>\n",
       "      <td>-36.0</td>\n",
       "      <td>-57.0</td>\n",
       "      <td>airbnb3</td>\n",
       "      <td>POINT (-57 -36)</td>\n",
       "    </tr>\n",
       "  </tbody>\n",
       "</table>\n",
       "</div>"
      ],
      "text/plain": [
       "   Latitude  Longitude    testo      Coordinates\n",
       "2     -36.0      -57.0  airbnb3  POINT (-57 -36)"
      ]
     },
     "execution_count": 24,
     "metadata": {},
     "output_type": "execute_result"
    }
   ],
   "source": [
    "# creo una geoseries\n",
    "buffer=gdf.buffer(2)\n",
    "# estraggo soltanto gli elementi di airbnbgdf che sono whitin il buffer\n",
    "airbnbgdf.loc[airbnbgdf.within(buffer.unary_union)]"
   ]
  }
 ],
 "metadata": {
  "kernelspec": {
   "display_name": "Python 3",
   "language": "python",
   "name": "python3"
  },
  "language_info": {
   "codemirror_mode": {
    "name": "ipython",
    "version": 2
   },
   "file_extension": ".py",
   "mimetype": "text/x-python",
   "name": "python",
   "nbconvert_exporter": "python",
   "pygments_lexer": "ipython2",
   "version": "2.7.13"
  }
 },
 "nbformat": 4,
 "nbformat_minor": 2
}
