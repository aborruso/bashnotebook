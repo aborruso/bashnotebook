{
 "cells": [
  {
   "cell_type": "markdown",
   "metadata": {},
   "source": [
    "# Come scrivere comodamente comandi SQL in un notebook\n",
    "\n",
    "Viene sfruttato il componente <https://github.com/catherinedevlin/ipython-sql> che rende disponibile un comando `magic` dedicato."
   ]
  },
  {
   "cell_type": "code",
   "execution_count": 1,
   "metadata": {},
   "outputs": [],
   "source": [
    "import pandas as pd"
   ]
  },
  {
   "cell_type": "code",
   "execution_count": 2,
   "metadata": {},
   "outputs": [],
   "source": [
    "%load_ext sql"
   ]
  },
  {
   "cell_type": "markdown",
   "metadata": {},
   "source": [
    "## Connessione"
   ]
  },
  {
   "cell_type": "code",
   "execution_count": 3,
   "metadata": {},
   "outputs": [
    {
     "data": {
      "text/plain": [
       "'Connected: @db.sqlite'"
      ]
     },
     "execution_count": 3,
     "metadata": {},
     "output_type": "execute_result"
    }
   ],
   "source": [
    "%%sql\n",
    "sqlite:///db.sqlite"
   ]
  },
  {
   "cell_type": "markdown",
   "metadata": {},
   "source": [
    "## Query"
   ]
  },
  {
   "cell_type": "code",
   "execution_count": 8,
   "metadata": {},
   "outputs": [
    {
     "name": "stdout",
     "output_type": "stream",
     "text": [
      " * sqlite:///db.sqlite\n",
      "Done.\n"
     ]
    },
    {
     "data": {
      "text/html": [
       "<table>\n",
       "    <tr>\n",
       "        <th>testo</th>\n",
       "        <th>intero</th>\n",
       "    </tr>\n",
       "    <tr>\n",
       "        <td>Palermo</td>\n",
       "        <td>3</td>\n",
       "    </tr>\n",
       "    <tr>\n",
       "        <td>Milano</td>\n",
       "        <td>8</td>\n",
       "    </tr>\n",
       "    <tr>\n",
       "        <td>Catania</td>\n",
       "        <td>7</td>\n",
       "    </tr>\n",
       "</table>"
      ],
      "text/plain": [
       "[('Palermo', 3), ('Milano', 8), ('Catania', 7)]"
      ]
     },
     "execution_count": 8,
     "metadata": {},
     "output_type": "execute_result"
    }
   ],
   "source": [
    "%%sql\n",
    "select * from tabella"
   ]
  },
  {
   "cell_type": "code",
   "execution_count": 9,
   "metadata": {},
   "outputs": [
    {
     "name": "stdout",
     "output_type": "stream",
     "text": [
      " * sqlite:///db.sqlite\n",
      "(sqlite3.OperationalError) not authorized [SQL: \"SELECT load_extension('mod_spatialite');\"] (Background on this error at: http://sqlalche.me/e/e3q8)\n"
     ]
    }
   ],
   "source": [
    "%%sql\n",
    "SELECT load_extension('mod_spatialite');"
   ]
  },
  {
   "cell_type": "markdown",
   "metadata": {},
   "source": [
    "## Convesione in dataframe"
   ]
  },
  {
   "cell_type": "code",
   "execution_count": 5,
   "metadata": {},
   "outputs": [
    {
     "name": "stdout",
     "output_type": "stream",
     "text": [
      " * sqlite:///db.sqlite\n",
      "Done.\n"
     ]
    }
   ],
   "source": [
    "# converto in dataframe l'output\n",
    "result = %sql select * from tabella\n",
    "dataframe = result.DataFrame()"
   ]
  },
  {
   "cell_type": "code",
   "execution_count": 6,
   "metadata": {},
   "outputs": [
    {
     "data": {
      "text/html": [
       "<div>\n",
       "<style>\n",
       "    .dataframe thead tr:only-child th {\n",
       "        text-align: right;\n",
       "    }\n",
       "\n",
       "    .dataframe thead th {\n",
       "        text-align: left;\n",
       "    }\n",
       "\n",
       "    .dataframe tbody tr th {\n",
       "        vertical-align: top;\n",
       "    }\n",
       "</style>\n",
       "<table border=\"1\" class=\"dataframe\">\n",
       "  <thead>\n",
       "    <tr style=\"text-align: right;\">\n",
       "      <th></th>\n",
       "      <th>testo</th>\n",
       "      <th>intero</th>\n",
       "    </tr>\n",
       "  </thead>\n",
       "  <tbody>\n",
       "    <tr>\n",
       "      <th>0</th>\n",
       "      <td>Palermo</td>\n",
       "      <td>3</td>\n",
       "    </tr>\n",
       "    <tr>\n",
       "      <th>1</th>\n",
       "      <td>Milano</td>\n",
       "      <td>8</td>\n",
       "    </tr>\n",
       "    <tr>\n",
       "      <th>2</th>\n",
       "      <td>Catania</td>\n",
       "      <td>7</td>\n",
       "    </tr>\n",
       "  </tbody>\n",
       "</table>\n",
       "</div>"
      ],
      "text/plain": [
       "     testo  intero\n",
       "0  Palermo       3\n",
       "1   Milano       8\n",
       "2  Catania       7"
      ]
     },
     "execution_count": 6,
     "metadata": {},
     "output_type": "execute_result"
    }
   ],
   "source": [
    "dataframe"
   ]
  },
  {
   "cell_type": "markdown",
   "metadata": {},
   "source": [
    "# Connessione a db sqlite e conversione in dataframe"
   ]
  },
  {
   "cell_type": "code",
   "execution_count": 20,
   "metadata": {},
   "outputs": [],
   "source": [
    "import sqlite3\n",
    "with sqlite3.connect('db.sqlite') as conn:\n",
    "    dataframe = pd.io.sql.read_sql(\"\"\"\n",
    "        SELECT *\n",
    "        FROM tabella;\"\"\", conn)"
   ]
  },
  {
   "cell_type": "markdown",
   "metadata": {},
   "source": [
    "## Abilitare modulo spatialite in sqlite"
   ]
  },
  {
   "cell_type": "code",
   "execution_count": 26,
   "metadata": {},
   "outputs": [],
   "source": [
    "conna=sqlite3.connect('db.sqlite')\n",
    "conna.enable_load_extension(True)\n",
    "conna.load_extension('mod_spatialite')\n",
    "conna.execute('select InitSpatialMetadata(1)')\n",
    "conna.execute(\"SELECT AddGeometryColumn('tabella', 'geom', 4326, 'POINT', 2);\")\n",
    "conna.execute('''\n",
    "    UPDATE tabella SET\n",
    "    geom = GeomFromText(('POINT(13 38)'),4326);\n",
    "''')\n",
    "conna.commit()\n",
    "conna.close()"
   ]
  },
  {
   "cell_type": "code",
   "execution_count": 29,
   "metadata": {},
   "outputs": [
    {
     "name": "stdout",
     "output_type": "stream",
     "text": [
      " * sqlite:///db.sqlite\n",
      "Done.\n"
     ]
    },
    {
     "data": {
      "text/html": [
       "<table>\n",
       "    <tr>\n",
       "        <th>testo</th>\n",
       "        <th>intero</th>\n",
       "        <th>geom</th>\n",
       "    </tr>\n",
       "    <tr>\n",
       "        <td>Palermo</td>\n",
       "        <td>3</td>\n",
       "        <td>b&#x27;\\x00\\x01\\xe6\\x10\\x00\\x00q=\\n\\xd7\\xa3\\xdcb@^\\xbaI\\x0c\\x02\\xfb@\\xc0q=\\n\\xd7\\xa3\\xdcb@^\\xbaI\\x0c\\x02\\xfb@\\xc0|\\x01\\x00\\x00\\x00q=\\n\\xd7\\xa3\\xdcb@^\\xbaI\\x0c\\x02\\xfb@\\xc0\\xfe&#x27;</td>\n",
       "    </tr>\n",
       "    <tr>\n",
       "        <td>Milano</td>\n",
       "        <td>8</td>\n",
       "        <td>b&#x27;\\x00\\x01\\xe6\\x10\\x00\\x00q=\\n\\xd7\\xa3\\xdcb@^\\xbaI\\x0c\\x02\\xfb@\\xc0q=\\n\\xd7\\xa3\\xdcb@^\\xbaI\\x0c\\x02\\xfb@\\xc0|\\x01\\x00\\x00\\x00q=\\n\\xd7\\xa3\\xdcb@^\\xbaI\\x0c\\x02\\xfb@\\xc0\\xfe&#x27;</td>\n",
       "    </tr>\n",
       "    <tr>\n",
       "        <td>Catania</td>\n",
       "        <td>7</td>\n",
       "        <td>b&#x27;\\x00\\x01\\xe6\\x10\\x00\\x00q=\\n\\xd7\\xa3\\xdcb@^\\xbaI\\x0c\\x02\\xfb@\\xc0q=\\n\\xd7\\xa3\\xdcb@^\\xbaI\\x0c\\x02\\xfb@\\xc0|\\x01\\x00\\x00\\x00q=\\n\\xd7\\xa3\\xdcb@^\\xbaI\\x0c\\x02\\xfb@\\xc0\\xfe&#x27;</td>\n",
       "    </tr>\n",
       "</table>"
      ],
      "text/plain": [
       "[('Palermo', 3, b'\\x00\\x01\\xe6\\x10\\x00\\x00q=\\n\\xd7\\xa3\\xdcb@^\\xbaI\\x0c\\x02\\xfb@\\xc0q=\\n\\xd7\\xa3\\xdcb@^\\xbaI\\x0c\\x02\\xfb@\\xc0|\\x01\\x00\\x00\\x00q=\\n\\xd7\\xa3\\xdcb@^\\xbaI\\x0c\\x02\\xfb@\\xc0\\xfe'),\n",
       " ('Milano', 8, b'\\x00\\x01\\xe6\\x10\\x00\\x00q=\\n\\xd7\\xa3\\xdcb@^\\xbaI\\x0c\\x02\\xfb@\\xc0q=\\n\\xd7\\xa3\\xdcb@^\\xbaI\\x0c\\x02\\xfb@\\xc0|\\x01\\x00\\x00\\x00q=\\n\\xd7\\xa3\\xdcb@^\\xbaI\\x0c\\x02\\xfb@\\xc0\\xfe'),\n",
       " ('Catania', 7, b'\\x00\\x01\\xe6\\x10\\x00\\x00q=\\n\\xd7\\xa3\\xdcb@^\\xbaI\\x0c\\x02\\xfb@\\xc0q=\\n\\xd7\\xa3\\xdcb@^\\xbaI\\x0c\\x02\\xfb@\\xc0|\\x01\\x00\\x00\\x00q=\\n\\xd7\\xa3\\xdcb@^\\xbaI\\x0c\\x02\\xfb@\\xc0\\xfe')]"
      ]
     },
     "execution_count": 29,
     "metadata": {},
     "output_type": "execute_result"
    }
   ],
   "source": [
    "%%sql\n",
    "select * from tabella"
   ]
  },
  {
   "cell_type": "code",
   "execution_count": null,
   "metadata": {},
   "outputs": [],
   "source": []
  }
 ],
 "metadata": {
  "kernelspec": {
   "display_name": "Python 3",
   "language": "python",
   "name": "python3"
  },
  "language_info": {
   "codemirror_mode": {
    "name": "ipython",
    "version": 3
   },
   "file_extension": ".py",
   "mimetype": "text/x-python",
   "name": "python",
   "nbconvert_exporter": "python",
   "pygments_lexer": "ipython3",
   "version": "3.6.5"
  }
 },
 "nbformat": 4,
 "nbformat_minor": 2
}
